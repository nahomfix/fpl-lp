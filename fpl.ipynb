{
 "cells": [
  {
   "cell_type": "code",
   "execution_count": 1,
   "metadata": {},
   "outputs": [],
   "source": [
    "import pandas as pd\n",
    "import re\n",
    "from pulp import *\n",
    "from pathlib import Path\n",
    "import matplotlib.pyplot as plt\n",
    "%matplotlib inline"
   ]
  },
  {
   "cell_type": "code",
   "execution_count": 2,
   "metadata": {},
   "outputs": [],
   "source": [
    "pwd = Path().cwd()\n",
    "data_dir = pwd / \"data\""
   ]
  },
  {
   "cell_type": "code",
   "execution_count": 3,
   "metadata": {},
   "outputs": [],
   "source": [
    "# df = pd.read_csv(data_dir / \"players_raw.csv\")\n",
    "df = pd.read_csv(data_dir / \"gw1.csv\")\n",
    "df_teams = pd.read_csv(data_dir / \"teams.csv\")"
   ]
  },
  {
   "cell_type": "code",
   "execution_count": 4,
   "metadata": {},
   "outputs": [
    {
     "data": {
      "text/html": [
       "<div>\n",
       "<style scoped>\n",
       "    .dataframe tbody tr th:only-of-type {\n",
       "        vertical-align: middle;\n",
       "    }\n",
       "\n",
       "    .dataframe tbody tr th {\n",
       "        vertical-align: top;\n",
       "    }\n",
       "\n",
       "    .dataframe thead th {\n",
       "        text-align: right;\n",
       "    }\n",
       "</style>\n",
       "<table border=\"1\" class=\"dataframe\">\n",
       "  <thead>\n",
       "    <tr style=\"text-align: right;\">\n",
       "      <th></th>\n",
       "      <th>assists</th>\n",
       "      <th>bonus</th>\n",
       "      <th>bps</th>\n",
       "      <th>chance_of_playing_next_round</th>\n",
       "      <th>chance_of_playing_this_round</th>\n",
       "      <th>clean_sheets</th>\n",
       "      <th>code</th>\n",
       "      <th>corners_and_indirect_freekicks_order</th>\n",
       "      <th>corners_and_indirect_freekicks_text</th>\n",
       "      <th>cost_change_event</th>\n",
       "      <th>...</th>\n",
       "      <th>threat_rank_type</th>\n",
       "      <th>total_points</th>\n",
       "      <th>transfers_in</th>\n",
       "      <th>transfers_in_event</th>\n",
       "      <th>transfers_out</th>\n",
       "      <th>transfers_out_event</th>\n",
       "      <th>value_form</th>\n",
       "      <th>value_season</th>\n",
       "      <th>web_name</th>\n",
       "      <th>yellow_cards</th>\n",
       "    </tr>\n",
       "  </thead>\n",
       "  <tbody>\n",
       "    <tr>\n",
       "      <th>0</th>\n",
       "      <td>0</td>\n",
       "      <td>0</td>\n",
       "      <td>0</td>\n",
       "      <td>None</td>\n",
       "      <td>None</td>\n",
       "      <td>0</td>\n",
       "      <td>58822</td>\n",
       "      <td>2</td>\n",
       "      <td>NaN</td>\n",
       "      <td>0</td>\n",
       "      <td>...</td>\n",
       "      <td>111</td>\n",
       "      <td>0</td>\n",
       "      <td>671</td>\n",
       "      <td>671</td>\n",
       "      <td>3556</td>\n",
       "      <td>3556</td>\n",
       "      <td>0.0</td>\n",
       "      <td>0.0</td>\n",
       "      <td>Cédric</td>\n",
       "      <td>0</td>\n",
       "    </tr>\n",
       "    <tr>\n",
       "      <th>1</th>\n",
       "      <td>0</td>\n",
       "      <td>0</td>\n",
       "      <td>12</td>\n",
       "      <td>None</td>\n",
       "      <td>None</td>\n",
       "      <td>1</td>\n",
       "      <td>84450</td>\n",
       "      <td>None</td>\n",
       "      <td>NaN</td>\n",
       "      <td>0</td>\n",
       "      <td>...</td>\n",
       "      <td>90</td>\n",
       "      <td>2</td>\n",
       "      <td>4140</td>\n",
       "      <td>4140</td>\n",
       "      <td>4558</td>\n",
       "      <td>4558</td>\n",
       "      <td>0.4</td>\n",
       "      <td>0.4</td>\n",
       "      <td>Xhaka</td>\n",
       "      <td>1</td>\n",
       "    </tr>\n",
       "    <tr>\n",
       "      <th>2</th>\n",
       "      <td>0</td>\n",
       "      <td>0</td>\n",
       "      <td>0</td>\n",
       "      <td>None</td>\n",
       "      <td>None</td>\n",
       "      <td>0</td>\n",
       "      <td>153256</td>\n",
       "      <td>None</td>\n",
       "      <td>NaN</td>\n",
       "      <td>0</td>\n",
       "      <td>...</td>\n",
       "      <td>115</td>\n",
       "      <td>0</td>\n",
       "      <td>2943</td>\n",
       "      <td>2943</td>\n",
       "      <td>10103</td>\n",
       "      <td>10103</td>\n",
       "      <td>0.0</td>\n",
       "      <td>0.0</td>\n",
       "      <td>Elneny</td>\n",
       "      <td>0</td>\n",
       "    </tr>\n",
       "    <tr>\n",
       "      <th>3</th>\n",
       "      <td>0</td>\n",
       "      <td>0</td>\n",
       "      <td>0</td>\n",
       "      <td>None</td>\n",
       "      <td>None</td>\n",
       "      <td>0</td>\n",
       "      <td>156074</td>\n",
       "      <td>None</td>\n",
       "      <td>NaN</td>\n",
       "      <td>0</td>\n",
       "      <td>...</td>\n",
       "      <td>137</td>\n",
       "      <td>0</td>\n",
       "      <td>283</td>\n",
       "      <td>283</td>\n",
       "      <td>1968</td>\n",
       "      <td>1968</td>\n",
       "      <td>0.0</td>\n",
       "      <td>0.0</td>\n",
       "      <td>Holding</td>\n",
       "      <td>0</td>\n",
       "    </tr>\n",
       "    <tr>\n",
       "      <th>4</th>\n",
       "      <td>0</td>\n",
       "      <td>0</td>\n",
       "      <td>17</td>\n",
       "      <td>None</td>\n",
       "      <td>None</td>\n",
       "      <td>1</td>\n",
       "      <td>167199</td>\n",
       "      <td>None</td>\n",
       "      <td>NaN</td>\n",
       "      <td>0</td>\n",
       "      <td>...</td>\n",
       "      <td>57</td>\n",
       "      <td>3</td>\n",
       "      <td>5902</td>\n",
       "      <td>5902</td>\n",
       "      <td>3984</td>\n",
       "      <td>3984</td>\n",
       "      <td>0.6</td>\n",
       "      <td>0.6</td>\n",
       "      <td>Partey</td>\n",
       "      <td>0</td>\n",
       "    </tr>\n",
       "  </tbody>\n",
       "</table>\n",
       "<p>5 rows × 67 columns</p>\n",
       "</div>"
      ],
      "text/plain": [
       "   assists  bonus  bps chance_of_playing_next_round  \\\n",
       "0        0      0    0                         None   \n",
       "1        0      0   12                         None   \n",
       "2        0      0    0                         None   \n",
       "3        0      0    0                         None   \n",
       "4        0      0   17                         None   \n",
       "\n",
       "  chance_of_playing_this_round  clean_sheets    code  \\\n",
       "0                         None             0   58822   \n",
       "1                         None             1   84450   \n",
       "2                         None             0  153256   \n",
       "3                         None             0  156074   \n",
       "4                         None             1  167199   \n",
       "\n",
       "  corners_and_indirect_freekicks_order  corners_and_indirect_freekicks_text  \\\n",
       "0                                    2                                  NaN   \n",
       "1                                 None                                  NaN   \n",
       "2                                 None                                  NaN   \n",
       "3                                 None                                  NaN   \n",
       "4                                 None                                  NaN   \n",
       "\n",
       "   cost_change_event  ...  threat_rank_type  total_points  transfers_in  \\\n",
       "0                  0  ...               111             0           671   \n",
       "1                  0  ...                90             2          4140   \n",
       "2                  0  ...               115             0          2943   \n",
       "3                  0  ...               137             0           283   \n",
       "4                  0  ...                57             3          5902   \n",
       "\n",
       "   transfers_in_event  transfers_out  transfers_out_event value_form  \\\n",
       "0                 671           3556                 3556        0.0   \n",
       "1                4140           4558                 4558        0.4   \n",
       "2                2943          10103                10103        0.0   \n",
       "3                 283           1968                 1968        0.0   \n",
       "4                5902           3984                 3984        0.6   \n",
       "\n",
       "   value_season  web_name  yellow_cards  \n",
       "0           0.0    Cédric             0  \n",
       "1           0.4     Xhaka             1  \n",
       "2           0.0    Elneny             0  \n",
       "3           0.0   Holding             0  \n",
       "4           0.6    Partey             0  \n",
       "\n",
       "[5 rows x 67 columns]"
      ]
     },
     "execution_count": 4,
     "metadata": {},
     "output_type": "execute_result"
    }
   ],
   "source": [
    "df.head()"
   ]
  },
  {
   "cell_type": "code",
   "execution_count": 5,
   "metadata": {},
   "outputs": [],
   "source": [
    "teams_dict = pd.Series(df_teams.short_name.values,index=df_teams.id).to_dict()\n",
    "pos_dict = {1: 'GK', 2: 'DEF', 3: 'MID', 4: 'FWD'}"
   ]
  },
  {
   "cell_type": "code",
   "execution_count": 6,
   "metadata": {},
   "outputs": [],
   "source": [
    "df_modify = df.copy()"
   ]
  },
  {
   "cell_type": "code",
   "execution_count": 7,
   "metadata": {},
   "outputs": [],
   "source": [
    "df_modify[\"name\"] = df[\"first_name\"] + \" \" + df[\"second_name\"]"
   ]
  },
  {
   "cell_type": "code",
   "execution_count": 8,
   "metadata": {},
   "outputs": [],
   "source": [
    "df_modify.drop(columns=[\"first_name\", \"second_name\"], axis=1, inplace=True)"
   ]
  },
  {
   "cell_type": "code",
   "execution_count": 9,
   "metadata": {},
   "outputs": [
    {
     "data": {
      "text/plain": [
       "Index(['assists', 'bonus', 'bps', 'chance_of_playing_next_round',\n",
       "       'chance_of_playing_this_round', 'clean_sheets', 'code',\n",
       "       'corners_and_indirect_freekicks_order',\n",
       "       'corners_and_indirect_freekicks_text', 'cost_change_event',\n",
       "       'cost_change_event_fall', 'cost_change_start', 'cost_change_start_fall',\n",
       "       'creativity', 'creativity_rank', 'creativity_rank_type',\n",
       "       'direct_freekicks_order', 'direct_freekicks_text', 'dreamteam_count',\n",
       "       'element_type', 'ep_next', 'ep_this', 'event_points', 'form',\n",
       "       'goals_conceded', 'goals_scored', 'ict_index', 'ict_index_rank',\n",
       "       'ict_index_rank_type', 'id', 'in_dreamteam', 'influence',\n",
       "       'influence_rank', 'influence_rank_type', 'minutes', 'news',\n",
       "       'news_added', 'now_cost', 'own_goals', 'penalties_missed',\n",
       "       'penalties_order', 'penalties_saved', 'penalties_text', 'photo',\n",
       "       'points_per_game', 'red_cards', 'saves', 'selected_by_percent',\n",
       "       'special', 'squad_number', 'status', 'team', 'team_code', 'threat',\n",
       "       'threat_rank', 'threat_rank_type', 'total_points', 'transfers_in',\n",
       "       'transfers_in_event', 'transfers_out', 'transfers_out_event',\n",
       "       'value_form', 'value_season', 'web_name', 'yellow_cards', 'name'],\n",
       "      dtype='object')"
      ]
     },
     "execution_count": 9,
     "metadata": {},
     "output_type": "execute_result"
    }
   ],
   "source": [
    "df_modify.columns"
   ]
  },
  {
   "cell_type": "code",
   "execution_count": 10,
   "metadata": {},
   "outputs": [],
   "source": [
    "df_modify.rename({\"element_type\": \"position\", \"now_cost\": \"value\"}, inplace=True, axis=1)"
   ]
  },
  {
   "cell_type": "code",
   "execution_count": 11,
   "metadata": {},
   "outputs": [],
   "source": [
    "features = df_modify[['name', \"team\", 'position', 'total_points', 'value']]"
   ]
  },
  {
   "cell_type": "code",
   "execution_count": 12,
   "metadata": {},
   "outputs": [
    {
     "data": {
      "text/html": [
       "<div>\n",
       "<style scoped>\n",
       "    .dataframe tbody tr th:only-of-type {\n",
       "        vertical-align: middle;\n",
       "    }\n",
       "\n",
       "    .dataframe tbody tr th {\n",
       "        vertical-align: top;\n",
       "    }\n",
       "\n",
       "    .dataframe thead th {\n",
       "        text-align: right;\n",
       "    }\n",
       "</style>\n",
       "<table border=\"1\" class=\"dataframe\">\n",
       "  <thead>\n",
       "    <tr style=\"text-align: right;\">\n",
       "      <th></th>\n",
       "      <th>name</th>\n",
       "      <th>team</th>\n",
       "      <th>position</th>\n",
       "      <th>total_points</th>\n",
       "      <th>value</th>\n",
       "    </tr>\n",
       "  </thead>\n",
       "  <tbody>\n",
       "    <tr>\n",
       "      <th>0</th>\n",
       "      <td>Cédric Alves Soares</td>\n",
       "      <td>1</td>\n",
       "      <td>2</td>\n",
       "      <td>0</td>\n",
       "      <td>45</td>\n",
       "    </tr>\n",
       "    <tr>\n",
       "      <th>1</th>\n",
       "      <td>Granit Xhaka</td>\n",
       "      <td>1</td>\n",
       "      <td>3</td>\n",
       "      <td>2</td>\n",
       "      <td>50</td>\n",
       "    </tr>\n",
       "    <tr>\n",
       "      <th>2</th>\n",
       "      <td>Mohamed Elneny</td>\n",
       "      <td>1</td>\n",
       "      <td>3</td>\n",
       "      <td>0</td>\n",
       "      <td>45</td>\n",
       "    </tr>\n",
       "    <tr>\n",
       "      <th>3</th>\n",
       "      <td>Rob Holding</td>\n",
       "      <td>1</td>\n",
       "      <td>2</td>\n",
       "      <td>0</td>\n",
       "      <td>45</td>\n",
       "    </tr>\n",
       "    <tr>\n",
       "      <th>4</th>\n",
       "      <td>Thomas Partey</td>\n",
       "      <td>1</td>\n",
       "      <td>3</td>\n",
       "      <td>3</td>\n",
       "      <td>50</td>\n",
       "    </tr>\n",
       "    <tr>\n",
       "      <th>...</th>\n",
       "      <td>...</td>\n",
       "      <td>...</td>\n",
       "      <td>...</td>\n",
       "      <td>...</td>\n",
       "      <td>...</td>\n",
       "    </tr>\n",
       "    <tr>\n",
       "      <th>568</th>\n",
       "      <td>Jackson Smith</td>\n",
       "      <td>20</td>\n",
       "      <td>1</td>\n",
       "      <td>0</td>\n",
       "      <td>40</td>\n",
       "    </tr>\n",
       "    <tr>\n",
       "      <th>569</th>\n",
       "      <td>Hugo Bueno López</td>\n",
       "      <td>20</td>\n",
       "      <td>2</td>\n",
       "      <td>0</td>\n",
       "      <td>40</td>\n",
       "    </tr>\n",
       "    <tr>\n",
       "      <th>570</th>\n",
       "      <td>Joseph Hodge</td>\n",
       "      <td>20</td>\n",
       "      <td>3</td>\n",
       "      <td>0</td>\n",
       "      <td>45</td>\n",
       "    </tr>\n",
       "    <tr>\n",
       "      <th>571</th>\n",
       "      <td>Connor Ronan</td>\n",
       "      <td>20</td>\n",
       "      <td>3</td>\n",
       "      <td>0</td>\n",
       "      <td>45</td>\n",
       "    </tr>\n",
       "    <tr>\n",
       "      <th>572</th>\n",
       "      <td>Chem Campbell</td>\n",
       "      <td>20</td>\n",
       "      <td>3</td>\n",
       "      <td>1</td>\n",
       "      <td>45</td>\n",
       "    </tr>\n",
       "  </tbody>\n",
       "</table>\n",
       "<p>573 rows × 5 columns</p>\n",
       "</div>"
      ],
      "text/plain": [
       "                    name  team  position  total_points  value\n",
       "0    Cédric Alves Soares     1         2             0     45\n",
       "1           Granit Xhaka     1         3             2     50\n",
       "2         Mohamed Elneny     1         3             0     45\n",
       "3            Rob Holding     1         2             0     45\n",
       "4          Thomas Partey     1         3             3     50\n",
       "..                   ...   ...       ...           ...    ...\n",
       "568        Jackson Smith    20         1             0     40\n",
       "569     Hugo Bueno López    20         2             0     40\n",
       "570         Joseph Hodge    20         3             0     45\n",
       "571         Connor Ronan    20         3             0     45\n",
       "572        Chem Campbell    20         3             1     45\n",
       "\n",
       "[573 rows x 5 columns]"
      ]
     },
     "execution_count": 12,
     "metadata": {},
     "output_type": "execute_result"
    }
   ],
   "source": [
    "features"
   ]
  },
  {
   "cell_type": "code",
   "execution_count": 13,
   "metadata": {},
   "outputs": [
    {
     "name": "stderr",
     "output_type": "stream",
     "text": [
      "C:\\Users\\user\\AppData\\Local\\Temp\\ipykernel_4020\\1191323582.py:1: SettingWithCopyWarning: \n",
      "A value is trying to be set on a copy of a slice from a DataFrame.\n",
      "Try using .loc[row_indexer,col_indexer] = value instead\n",
      "\n",
      "See the caveats in the documentation: https://pandas.pydata.org/pandas-docs/stable/user_guide/indexing.html#returning-a-view-versus-a-copy\n",
      "  features[\"team\"] = features[\"team\"].map(teams_dict)\n",
      "C:\\Users\\user\\AppData\\Local\\Temp\\ipykernel_4020\\1191323582.py:2: SettingWithCopyWarning: \n",
      "A value is trying to be set on a copy of a slice from a DataFrame.\n",
      "Try using .loc[row_indexer,col_indexer] = value instead\n",
      "\n",
      "See the caveats in the documentation: https://pandas.pydata.org/pandas-docs/stable/user_guide/indexing.html#returning-a-view-versus-a-copy\n",
      "  features[\"position\"] = features[\"position\"].map(pos_dict)\n"
     ]
    }
   ],
   "source": [
    "features[\"team\"] = features[\"team\"].map(teams_dict)\n",
    "features[\"position\"] = features[\"position\"].map(pos_dict)"
   ]
  },
  {
   "cell_type": "code",
   "execution_count": 14,
   "metadata": {},
   "outputs": [
    {
     "data": {
      "text/html": [
       "<div>\n",
       "<style scoped>\n",
       "    .dataframe tbody tr th:only-of-type {\n",
       "        vertical-align: middle;\n",
       "    }\n",
       "\n",
       "    .dataframe tbody tr th {\n",
       "        vertical-align: top;\n",
       "    }\n",
       "\n",
       "    .dataframe thead th {\n",
       "        text-align: right;\n",
       "    }\n",
       "</style>\n",
       "<table border=\"1\" class=\"dataframe\">\n",
       "  <thead>\n",
       "    <tr style=\"text-align: right;\">\n",
       "      <th></th>\n",
       "      <th>name</th>\n",
       "      <th>team</th>\n",
       "      <th>position</th>\n",
       "      <th>total_points</th>\n",
       "      <th>value</th>\n",
       "    </tr>\n",
       "  </thead>\n",
       "  <tbody>\n",
       "    <tr>\n",
       "      <th>0</th>\n",
       "      <td>Cédric Alves Soares</td>\n",
       "      <td>ARS</td>\n",
       "      <td>DEF</td>\n",
       "      <td>0</td>\n",
       "      <td>45</td>\n",
       "    </tr>\n",
       "    <tr>\n",
       "      <th>1</th>\n",
       "      <td>Granit Xhaka</td>\n",
       "      <td>ARS</td>\n",
       "      <td>MID</td>\n",
       "      <td>2</td>\n",
       "      <td>50</td>\n",
       "    </tr>\n",
       "    <tr>\n",
       "      <th>2</th>\n",
       "      <td>Mohamed Elneny</td>\n",
       "      <td>ARS</td>\n",
       "      <td>MID</td>\n",
       "      <td>0</td>\n",
       "      <td>45</td>\n",
       "    </tr>\n",
       "    <tr>\n",
       "      <th>3</th>\n",
       "      <td>Rob Holding</td>\n",
       "      <td>ARS</td>\n",
       "      <td>DEF</td>\n",
       "      <td>0</td>\n",
       "      <td>45</td>\n",
       "    </tr>\n",
       "    <tr>\n",
       "      <th>4</th>\n",
       "      <td>Thomas Partey</td>\n",
       "      <td>ARS</td>\n",
       "      <td>MID</td>\n",
       "      <td>3</td>\n",
       "      <td>50</td>\n",
       "    </tr>\n",
       "    <tr>\n",
       "      <th>...</th>\n",
       "      <td>...</td>\n",
       "      <td>...</td>\n",
       "      <td>...</td>\n",
       "      <td>...</td>\n",
       "      <td>...</td>\n",
       "    </tr>\n",
       "    <tr>\n",
       "      <th>568</th>\n",
       "      <td>Jackson Smith</td>\n",
       "      <td>WOL</td>\n",
       "      <td>GK</td>\n",
       "      <td>0</td>\n",
       "      <td>40</td>\n",
       "    </tr>\n",
       "    <tr>\n",
       "      <th>569</th>\n",
       "      <td>Hugo Bueno López</td>\n",
       "      <td>WOL</td>\n",
       "      <td>DEF</td>\n",
       "      <td>0</td>\n",
       "      <td>40</td>\n",
       "    </tr>\n",
       "    <tr>\n",
       "      <th>570</th>\n",
       "      <td>Joseph Hodge</td>\n",
       "      <td>WOL</td>\n",
       "      <td>MID</td>\n",
       "      <td>0</td>\n",
       "      <td>45</td>\n",
       "    </tr>\n",
       "    <tr>\n",
       "      <th>571</th>\n",
       "      <td>Connor Ronan</td>\n",
       "      <td>WOL</td>\n",
       "      <td>MID</td>\n",
       "      <td>0</td>\n",
       "      <td>45</td>\n",
       "    </tr>\n",
       "    <tr>\n",
       "      <th>572</th>\n",
       "      <td>Chem Campbell</td>\n",
       "      <td>WOL</td>\n",
       "      <td>MID</td>\n",
       "      <td>1</td>\n",
       "      <td>45</td>\n",
       "    </tr>\n",
       "  </tbody>\n",
       "</table>\n",
       "<p>573 rows × 5 columns</p>\n",
       "</div>"
      ],
      "text/plain": [
       "                    name team position  total_points  value\n",
       "0    Cédric Alves Soares  ARS      DEF             0     45\n",
       "1           Granit Xhaka  ARS      MID             2     50\n",
       "2         Mohamed Elneny  ARS      MID             0     45\n",
       "3            Rob Holding  ARS      DEF             0     45\n",
       "4          Thomas Partey  ARS      MID             3     50\n",
       "..                   ...  ...      ...           ...    ...\n",
       "568        Jackson Smith  WOL       GK             0     40\n",
       "569     Hugo Bueno López  WOL      DEF             0     40\n",
       "570         Joseph Hodge  WOL      MID             0     45\n",
       "571         Connor Ronan  WOL      MID             0     45\n",
       "572        Chem Campbell  WOL      MID             1     45\n",
       "\n",
       "[573 rows x 5 columns]"
      ]
     },
     "execution_count": 14,
     "metadata": {},
     "output_type": "execute_result"
    }
   ],
   "source": [
    "features"
   ]
  },
  {
   "cell_type": "code",
   "execution_count": 40,
   "metadata": {},
   "outputs": [],
   "source": [
    "POS = features.position.unique()\n",
    "CLUBS = features.team.unique()\n",
    "BUDGET = 1000\n",
    "pos_available = {\n",
    "    'DEF': 5,\n",
    "    'FWD': 3,\n",
    "    'MID': 5,\n",
    "    'GK': 2,\n",
    "}\n",
    "\n",
    "# Initialize Variables\n",
    "names = [features.name[i] for i in features.index]\n",
    "teams = [features.team[i] for i in features.index]\n",
    "positions = [features.position[i] for i in features.index]\n",
    "prices = [features.value[i] for i in features.index]\n",
    "points = [features.total_points[i] for i in features.index]\n",
    "players = [LpVariable(\"player_\" + str(i), cat=\"Binary\") for i in features.index]"
   ]
  },
  {
   "cell_type": "code",
   "execution_count": 41,
   "metadata": {},
   "outputs": [],
   "source": [
    "# Initialize the problem\n",
    "prob = LpProblem(\"FPL_Player_Choices\", LpMaximize)"
   ]
  },
  {
   "cell_type": "code",
   "execution_count": 42,
   "metadata": {},
   "outputs": [],
   "source": [
    "# Define the objective\n",
    "prob += lpSum(players[i] * points[i] for i in range(len(features))) # Objective"
   ]
  },
  {
   "cell_type": "code",
   "execution_count": 43,
   "metadata": {},
   "outputs": [],
   "source": [
    "# Build the constraints\n",
    "prob += lpSum(players[i] * features.value[features.index[i]] for i in range(len(features))) <= BUDGET # Budget Limit\n",
    "\n",
    "for pos in POS:\n",
    "  prob += lpSum(players[i] for i in range(len(features)) if positions[i] == pos) <= pos_available[pos] # Position Limit\n",
    "\n",
    "for club in CLUBS:\n",
    "  prob += lpSum(players[i] for i in range(len(features)) if teams[i] == club) <= 3 # Club Limit"
   ]
  },
  {
   "cell_type": "code",
   "execution_count": 44,
   "metadata": {},
   "outputs": [
    {
     "data": {
      "text/plain": [
       "1"
      ]
     },
     "execution_count": 44,
     "metadata": {},
     "output_type": "execute_result"
    }
   ],
   "source": [
    "# Solve the problem\n",
    "prob.solve()"
   ]
  },
  {
   "cell_type": "code",
   "execution_count": 45,
   "metadata": {},
   "outputs": [],
   "source": [
    "player_names = []\n",
    "player_clubs = []\n",
    "player_positions = []\n",
    "player_prices = []\n",
    "player_points = []"
   ]
  },
  {
   "cell_type": "code",
   "execution_count": 46,
   "metadata": {},
   "outputs": [
    {
     "name": "stdout",
     "output_type": "stream",
     "text": [
      "Pascal Groß | MID | BHA | 15 | 55\n",
      "Jorge Luiz Frello Filho | MID | CHE | 11 | 60\n",
      "Ben Chilwell | DEF | CHE | 9 | 60\n",
      "Edouard Mendy | GK | CHE | 7 | 50\n",
      "Aleksandar Mitrović | FWD | FUL | 13 | 66\n",
      "Oleksandr Zinchenko | DEF | ARS | 12 | 51\n",
      "Kiernan Dewsbury-Hall | MID | LEI | 10 | 50\n",
      "Mohamed Salah | MID | LIV | 12 | 130\n",
      "Ederson Santana de Moraes | GK | MCI | 7 | 55\n",
      "Erling Haaland | FWD | MCI | 13 | 116\n",
      "Fabian Schär | DEF | NEW | 15 | 45\n",
      "Emerson Leite de Souza Junior | DEF | TOT | 9 | 50\n",
      "Dejan Kulusevski | MID | TOT | 13 | 80\n",
      "Lloyd Kelly | DEF | BOU | 12 | 45\n",
      "Ivan Toney | FWD | BRE | 8 | 70\n"
     ]
    }
   ],
   "source": [
    "for v in prob.variables():\n",
    "  if v.varValue != 0:\n",
    "    name = features.name[int(v.name.split(\"_\")[1])]\n",
    "    club = features.team[int(v.name.split(\"_\")[1])]\n",
    "    position = features.position[int(v.name.split(\"_\")[1])]\n",
    "    point = features.total_points[int(v.name.split(\"_\")[1])]\n",
    "    price = features.value[int(v.name.split(\"_\")[1])]\n",
    "\n",
    "    player_names.append(name)\n",
    "    player_clubs.append(club)\n",
    "    player_positions.append(position)\n",
    "    player_prices.append(price)\n",
    "    player_points.append(point)\n",
    "    \n",
    "    print(name, position, club, point, price, sep=\" | \")"
   ]
  },
  {
   "cell_type": "code",
   "execution_count": 47,
   "metadata": {},
   "outputs": [],
   "source": [
    "squad = pd.DataFrame({\"name\": player_names, \"position\": player_positions, \"club\": player_clubs, \"price\": player_prices, \"point\": player_points})"
   ]
  },
  {
   "cell_type": "code",
   "execution_count": 48,
   "metadata": {},
   "outputs": [
    {
     "data": {
      "text/html": [
       "<div>\n",
       "<style scoped>\n",
       "    .dataframe tbody tr th:only-of-type {\n",
       "        vertical-align: middle;\n",
       "    }\n",
       "\n",
       "    .dataframe tbody tr th {\n",
       "        vertical-align: top;\n",
       "    }\n",
       "\n",
       "    .dataframe thead th {\n",
       "        text-align: right;\n",
       "    }\n",
       "</style>\n",
       "<table border=\"1\" class=\"dataframe\">\n",
       "  <thead>\n",
       "    <tr style=\"text-align: right;\">\n",
       "      <th></th>\n",
       "      <th>name</th>\n",
       "      <th>position</th>\n",
       "      <th>club</th>\n",
       "      <th>price</th>\n",
       "      <th>point</th>\n",
       "    </tr>\n",
       "  </thead>\n",
       "  <tbody>\n",
       "    <tr>\n",
       "      <th>2</th>\n",
       "      <td>Ben Chilwell</td>\n",
       "      <td>DEF</td>\n",
       "      <td>CHE</td>\n",
       "      <td>60</td>\n",
       "      <td>9</td>\n",
       "    </tr>\n",
       "    <tr>\n",
       "      <th>5</th>\n",
       "      <td>Oleksandr Zinchenko</td>\n",
       "      <td>DEF</td>\n",
       "      <td>ARS</td>\n",
       "      <td>51</td>\n",
       "      <td>12</td>\n",
       "    </tr>\n",
       "    <tr>\n",
       "      <th>10</th>\n",
       "      <td>Fabian Schär</td>\n",
       "      <td>DEF</td>\n",
       "      <td>NEW</td>\n",
       "      <td>45</td>\n",
       "      <td>15</td>\n",
       "    </tr>\n",
       "    <tr>\n",
       "      <th>11</th>\n",
       "      <td>Emerson Leite de Souza Junior</td>\n",
       "      <td>DEF</td>\n",
       "      <td>TOT</td>\n",
       "      <td>50</td>\n",
       "      <td>9</td>\n",
       "    </tr>\n",
       "    <tr>\n",
       "      <th>13</th>\n",
       "      <td>Lloyd Kelly</td>\n",
       "      <td>DEF</td>\n",
       "      <td>BOU</td>\n",
       "      <td>45</td>\n",
       "      <td>12</td>\n",
       "    </tr>\n",
       "    <tr>\n",
       "      <th>4</th>\n",
       "      <td>Aleksandar Mitrović</td>\n",
       "      <td>FWD</td>\n",
       "      <td>FUL</td>\n",
       "      <td>66</td>\n",
       "      <td>13</td>\n",
       "    </tr>\n",
       "    <tr>\n",
       "      <th>9</th>\n",
       "      <td>Erling Haaland</td>\n",
       "      <td>FWD</td>\n",
       "      <td>MCI</td>\n",
       "      <td>116</td>\n",
       "      <td>13</td>\n",
       "    </tr>\n",
       "    <tr>\n",
       "      <th>14</th>\n",
       "      <td>Ivan Toney</td>\n",
       "      <td>FWD</td>\n",
       "      <td>BRE</td>\n",
       "      <td>70</td>\n",
       "      <td>8</td>\n",
       "    </tr>\n",
       "    <tr>\n",
       "      <th>3</th>\n",
       "      <td>Edouard Mendy</td>\n",
       "      <td>GK</td>\n",
       "      <td>CHE</td>\n",
       "      <td>50</td>\n",
       "      <td>7</td>\n",
       "    </tr>\n",
       "    <tr>\n",
       "      <th>8</th>\n",
       "      <td>Ederson Santana de Moraes</td>\n",
       "      <td>GK</td>\n",
       "      <td>MCI</td>\n",
       "      <td>55</td>\n",
       "      <td>7</td>\n",
       "    </tr>\n",
       "    <tr>\n",
       "      <th>0</th>\n",
       "      <td>Pascal Groß</td>\n",
       "      <td>MID</td>\n",
       "      <td>BHA</td>\n",
       "      <td>55</td>\n",
       "      <td>15</td>\n",
       "    </tr>\n",
       "    <tr>\n",
       "      <th>1</th>\n",
       "      <td>Jorge Luiz Frello Filho</td>\n",
       "      <td>MID</td>\n",
       "      <td>CHE</td>\n",
       "      <td>60</td>\n",
       "      <td>11</td>\n",
       "    </tr>\n",
       "    <tr>\n",
       "      <th>6</th>\n",
       "      <td>Kiernan Dewsbury-Hall</td>\n",
       "      <td>MID</td>\n",
       "      <td>LEI</td>\n",
       "      <td>50</td>\n",
       "      <td>10</td>\n",
       "    </tr>\n",
       "    <tr>\n",
       "      <th>7</th>\n",
       "      <td>Mohamed Salah</td>\n",
       "      <td>MID</td>\n",
       "      <td>LIV</td>\n",
       "      <td>130</td>\n",
       "      <td>12</td>\n",
       "    </tr>\n",
       "    <tr>\n",
       "      <th>12</th>\n",
       "      <td>Dejan Kulusevski</td>\n",
       "      <td>MID</td>\n",
       "      <td>TOT</td>\n",
       "      <td>80</td>\n",
       "      <td>13</td>\n",
       "    </tr>\n",
       "  </tbody>\n",
       "</table>\n",
       "</div>"
      ],
      "text/plain": [
       "                             name position club  price  point\n",
       "2                    Ben Chilwell      DEF  CHE     60      9\n",
       "5             Oleksandr Zinchenko      DEF  ARS     51     12\n",
       "10                   Fabian Schär      DEF  NEW     45     15\n",
       "11  Emerson Leite de Souza Junior      DEF  TOT     50      9\n",
       "13                    Lloyd Kelly      DEF  BOU     45     12\n",
       "4             Aleksandar Mitrović      FWD  FUL     66     13\n",
       "9                  Erling Haaland      FWD  MCI    116     13\n",
       "14                     Ivan Toney      FWD  BRE     70      8\n",
       "3                   Edouard Mendy       GK  CHE     50      7\n",
       "8       Ederson Santana de Moraes       GK  MCI     55      7\n",
       "0                     Pascal Groß      MID  BHA     55     15\n",
       "1         Jorge Luiz Frello Filho      MID  CHE     60     11\n",
       "6           Kiernan Dewsbury-Hall      MID  LEI     50     10\n",
       "7                   Mohamed Salah      MID  LIV    130     12\n",
       "12               Dejan Kulusevski      MID  TOT     80     13"
      ]
     },
     "execution_count": 48,
     "metadata": {},
     "output_type": "execute_result"
    }
   ],
   "source": [
    "squad.sort_values(by=\"position\")"
   ]
  },
  {
   "cell_type": "code",
   "execution_count": 49,
   "metadata": {},
   "outputs": [
    {
     "data": {
      "text/plain": [
       "166"
      ]
     },
     "execution_count": 49,
     "metadata": {},
     "output_type": "execute_result"
    }
   ],
   "source": [
    "squad[\"point\"].sum()"
   ]
  },
  {
   "cell_type": "code",
   "execution_count": 50,
   "metadata": {},
   "outputs": [],
   "source": [
    "score = str(prob.objective)\n",
    "constraint = [str(const) for const in prob.constraints.values()][0]\n",
    "for v in prob.variables():\n",
    "  score = score.replace(v.name, str(v.varValue))\n",
    "  constraint = constraint.replace(v.name, str(v.varValue))\n",
    "\n",
    "score_pretty = \" + \".join( re.findall('[0-9\\.]*\\*1.0', score) )\n",
    "constraint_pretty = \" + \".join( re.findall('[0-9\\.]*\\*1.0', constraint) )\n",
    "\n",
    "\n",
    "# print(\"Constraint: \")\n",
    "# print(constraint_pretty + \" = \" + str(eval(constraint_pretty)))\n",
    "# print()\n",
    "# print(\"Score: \")\n",
    "# print(score_pretty + \" = \" + str(eval(score_pretty)))"
   ]
  },
  {
   "cell_type": "markdown",
   "metadata": {},
   "source": [
    "# GW1 Analysis"
   ]
  },
  {
   "cell_type": "code",
   "execution_count": 15,
   "metadata": {},
   "outputs": [],
   "source": [
    "plt.style.use('seaborn')"
   ]
  },
  {
   "cell_type": "code",
   "execution_count": 30,
   "metadata": {},
   "outputs": [
    {
     "data": {
      "image/png": "[encoded data removed]",
      "text/plain": [
       "<Figure size 1440x720 with 1 Axes>"
      ]
     },
     "metadata": {},
     "output_type": "display_data"
    }
   ],
   "source": [
    "df_modify.sort_values(by=\"ict_index\", ascending=False).nlargest(n=10, columns=\"ict_index\").plot(kind=\"barh\", x=\"name\", y=\"ict_index\", figsize=(20, 10), title=\"Players with the highest ICT Index\").invert_yaxis()"
   ]
  },
  {
   "cell_type": "code",
   "execution_count": 29,
   "metadata": {},
   "outputs": [
    {
     "data": {
      "image/png": "[encoded data removed]",
      "text/plain": [
       "<Figure size 1440x720 with 1 Axes>"
      ]
     },
     "metadata": {},
     "output_type": "display_data"
    }
   ],
   "source": [
    "df_modify.sort_values(by=\"total_points\", ascending=False).nlargest(n=10, columns=\"total_points\").plot(kind=\"barh\", x=\"name\", y=\"total_points\", figsize=(20, 10), title=\"Players with the highest total points\").invert_yaxis()"
   ]
  },
  {
   "cell_type": "code",
   "execution_count": 32,
   "metadata": {},
   "outputs": [
    {
     "data": {
      "image/png": "[encoded data removed]",
      "text/plain": [
       "<Figure size 1440x720 with 1 Axes>"
      ]
     },
     "metadata": {},
     "output_type": "display_data"
    }
   ],
   "source": [
    "df_modify.sort_values(by=\"transfers_in\", ascending=False).nlargest(n=10, columns=\"transfers_in\").plot(kind=\"barh\", x=\"name\", y=\"transfers_in\", figsize=(20, 10), title=\"Most transferred in players\").invert_yaxis()"
   ]
  },
  {
   "cell_type": "code",
   "execution_count": 33,
   "metadata": {},
   "outputs": [
    {
     "data": {
      "image/png": "[encoded data removed]",
      "text/plain": [
       "<Figure size 1440x720 with 1 Axes>"
      ]
     },
     "metadata": {},
     "output_type": "display_data"
    }
   ],
   "source": [
    "df_modify.sort_values(by=\"transfers_out\", ascending=False).nlargest(n=10, columns=\"transfers_out\").plot(kind=\"barh\", x=\"name\", y=\"transfers_out\", figsize=(20, 10), title=\"Most transferred out players\").invert_yaxis()"
   ]
  },
  {
   "cell_type": "code",
   "execution_count": null,
   "metadata": {},
   "outputs": [],
   "source": []
  }
 ],
 "metadata": {
  "kernelspec": {
   "display_name": "Python 3.9.6 64-bit",
   "language": "python",
   "name": "python3"
  },
  "language_info": {
   "codemirror_mode": {
    "name": "ipython",
    "version": 3
   },
   "file_extension": ".py",
   "mimetype": "text/x-python",
   "name": "python",
   "nbconvert_exporter": "python",
   "pygments_lexer": "ipython3",
   "version": "3.9.6"
  },
  "orig_nbformat": 4,
  "vscode": {
   "interpreter": {
    "hash": "81794d4967e6c3204c66dcd87b604927b115b27c00565d3d43f05ba2f3a2cb0d"
   }
  }
 },
 "nbformat": 4,
 "nbformat_minor": 2
}
